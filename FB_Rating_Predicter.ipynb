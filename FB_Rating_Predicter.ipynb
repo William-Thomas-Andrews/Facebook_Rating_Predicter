{
 "cells": [
  {
   "cell_type": "code",
   "execution_count": 51,
   "id": "7f49a53d-0bdd-4a68-a677-225efae82bf8",
   "metadata": {},
   "outputs": [],
   "source": [
    "import pandas as pd\n",
    "import numpy as np\n",
    "import matplotlib.pyplot as plt\n",
    "import seaborn as sns\n",
    "from sklearn.model_selection import train_test_split\n",
    "from sklearn.feature_extraction.text import CountVectorizer\n",
    "from sklearn.naive_bayes import MultinomialNB\n",
    "from sklearn.naive_bayes import GaussianNB\n",
    "from sklearn.naive_bayes import BernoulliNB\n",
    "from sklearn.metrics import classification_report"
   ]
  },
  {
   "cell_type": "markdown",
   "id": "e02d088b-97a0-451f-aa2a-6c9ec42c0fc0",
   "metadata": {},
   "source": [
    "### Preproccessing the data"
   ]
  },
  {
   "cell_type": "code",
   "execution_count": 52,
   "id": "83379c21-5dc8-4eba-bba3-85a861a3a491",
   "metadata": {},
   "outputs": [],
   "source": [
    "df = pd.read_csv(\"data/facebook_reviews.csv\")"
   ]
  },
  {
   "cell_type": "code",
   "execution_count": 53,
   "id": "467ca94e-5588-4b5c-aad3-bb3c4a0cd832",
   "metadata": {},
   "outputs": [
    {
     "data": {
      "text/html": [
       "<div>\n",
       "<style scoped>\n",
       "    .dataframe tbody tr th:only-of-type {\n",
       "        vertical-align: middle;\n",
       "    }\n",
       "\n",
       "    .dataframe tbody tr th {\n",
       "        vertical-align: top;\n",
       "    }\n",
       "\n",
       "    .dataframe thead th {\n",
       "        text-align: right;\n",
       "    }\n",
       "</style>\n",
       "<table border=\"1\" class=\"dataframe\">\n",
       "  <thead>\n",
       "    <tr style=\"text-align: right;\">\n",
       "      <th></th>\n",
       "      <th>reviewId</th>\n",
       "      <th>userName</th>\n",
       "      <th>content</th>\n",
       "      <th>score</th>\n",
       "      <th>thumbsUpCount</th>\n",
       "      <th>reviewCreatedVersion</th>\n",
       "      <th>at</th>\n",
       "      <th>appVersion</th>\n",
       "    </tr>\n",
       "  </thead>\n",
       "  <tbody>\n",
       "    <tr>\n",
       "      <th>0</th>\n",
       "      <td>aa14afbe-b885-483b-bfd4-ce0710742b7c</td>\n",
       "      <td>Ni WarLin</td>\n",
       "      <td>Like</td>\n",
       "      <td>5</td>\n",
       "      <td>0</td>\n",
       "      <td>463.1.0.53.85</td>\n",
       "      <td>2024-05-11 22:11:06</td>\n",
       "      <td>463.1.0.53.85</td>\n",
       "    </tr>\n",
       "    <tr>\n",
       "      <th>1</th>\n",
       "      <td>770414f8-e14d-4b87-9257-310ebb0eae82</td>\n",
       "      <td>Airesh Nacaytuna</td>\n",
       "      <td>Great apps gustong gusto koto na apps</td>\n",
       "      <td>5</td>\n",
       "      <td>0</td>\n",
       "      <td>NaN</td>\n",
       "      <td>2024-05-11 22:11:02</td>\n",
       "      <td>NaN</td>\n",
       "    </tr>\n",
       "    <tr>\n",
       "      <th>2</th>\n",
       "      <td>212c58a0-e3e1-4fdd-9d5a-42d0c3932c13</td>\n",
       "      <td>Ram Milan</td>\n",
       "      <td>Eeßu</td>\n",
       "      <td>1</td>\n",
       "      <td>0</td>\n",
       "      <td>463.1.0.53.85</td>\n",
       "      <td>2024-05-11 22:10:30</td>\n",
       "      <td>463.1.0.53.85</td>\n",
       "    </tr>\n",
       "    <tr>\n",
       "      <th>3</th>\n",
       "      <td>a907d3ab-a99f-477d-9b50-4a870643e993</td>\n",
       "      <td>Sani Bk</td>\n",
       "      <td>shisi</td>\n",
       "      <td>1</td>\n",
       "      <td>0</td>\n",
       "      <td>436.0.0.35.101</td>\n",
       "      <td>2024-05-11 22:09:50</td>\n",
       "      <td>436.0.0.35.101</td>\n",
       "    </tr>\n",
       "    <tr>\n",
       "      <th>4</th>\n",
       "      <td>0132e4b0-0e97-4abc-a4b1-a3a07e990046</td>\n",
       "      <td>snake plissken</td>\n",
       "      <td>Not sure whats happened over the last week or ...</td>\n",
       "      <td>2</td>\n",
       "      <td>2</td>\n",
       "      <td>463.1.0.53.85</td>\n",
       "      <td>2024-05-11 22:09:07</td>\n",
       "      <td>463.1.0.53.85</td>\n",
       "    </tr>\n",
       "    <tr>\n",
       "      <th>...</th>\n",
       "      <td>...</td>\n",
       "      <td>...</td>\n",
       "      <td>...</td>\n",
       "      <td>...</td>\n",
       "      <td>...</td>\n",
       "      <td>...</td>\n",
       "      <td>...</td>\n",
       "      <td>...</td>\n",
       "    </tr>\n",
       "    <tr>\n",
       "      <th>43479</th>\n",
       "      <td>d7816c49-b04a-4069-b9f9-25e63d069a41</td>\n",
       "      <td>Deepak thakur Deepak thakur</td>\n",
       "      <td>nice video</td>\n",
       "      <td>5</td>\n",
       "      <td>0</td>\n",
       "      <td>NaN</td>\n",
       "      <td>2024-05-08 00:07:55</td>\n",
       "      <td>NaN</td>\n",
       "    </tr>\n",
       "    <tr>\n",
       "      <th>43480</th>\n",
       "      <td>c23d2b31-4c97-41de-867c-3f5ef3a61d0d</td>\n",
       "      <td>Joseph Leblanc</td>\n",
       "      <td>love it!!!</td>\n",
       "      <td>5</td>\n",
       "      <td>0</td>\n",
       "      <td>462.0.0.47.85</td>\n",
       "      <td>2024-05-08 00:07:38</td>\n",
       "      <td>462.0.0.47.85</td>\n",
       "    </tr>\n",
       "    <tr>\n",
       "      <th>43481</th>\n",
       "      <td>01bdb728-5042-4a8f-b207-8a02263c7b3e</td>\n",
       "      <td>Christian Kelechi</td>\n",
       "      <td>Good work is confirmed</td>\n",
       "      <td>5</td>\n",
       "      <td>0</td>\n",
       "      <td>361.0.0.39.115</td>\n",
       "      <td>2024-05-08 00:07:31</td>\n",
       "      <td>361.0.0.39.115</td>\n",
       "    </tr>\n",
       "    <tr>\n",
       "      <th>43482</th>\n",
       "      <td>a5207278-bc25-4bbb-b999-004407519b81</td>\n",
       "      <td>Mankhush Abinash</td>\n",
       "      <td>I NH by t um TV ex RV hu by</td>\n",
       "      <td>1</td>\n",
       "      <td>0</td>\n",
       "      <td>462.0.0.47.85</td>\n",
       "      <td>2024-05-08 00:04:41</td>\n",
       "      <td>462.0.0.47.85</td>\n",
       "    </tr>\n",
       "    <tr>\n",
       "      <th>43483</th>\n",
       "      <td>60cb051b-de1e-4081-970b-6b7cd7e3dc03</td>\n",
       "      <td>Trudy Musgrove</td>\n",
       "      <td>Works</td>\n",
       "      <td>3</td>\n",
       "      <td>0</td>\n",
       "      <td>NaN</td>\n",
       "      <td>2024-05-08 00:01:21</td>\n",
       "      <td>NaN</td>\n",
       "    </tr>\n",
       "  </tbody>\n",
       "</table>\n",
       "<p>43484 rows × 8 columns</p>\n",
       "</div>"
      ],
      "text/plain": [
       "                                   reviewId                     userName  \\\n",
       "0      aa14afbe-b885-483b-bfd4-ce0710742b7c                    Ni WarLin   \n",
       "1      770414f8-e14d-4b87-9257-310ebb0eae82             Airesh Nacaytuna   \n",
       "2      212c58a0-e3e1-4fdd-9d5a-42d0c3932c13                    Ram Milan   \n",
       "3      a907d3ab-a99f-477d-9b50-4a870643e993                      Sani Bk   \n",
       "4      0132e4b0-0e97-4abc-a4b1-a3a07e990046               snake plissken   \n",
       "...                                     ...                          ...   \n",
       "43479  d7816c49-b04a-4069-b9f9-25e63d069a41  Deepak thakur Deepak thakur   \n",
       "43480  c23d2b31-4c97-41de-867c-3f5ef3a61d0d               Joseph Leblanc   \n",
       "43481  01bdb728-5042-4a8f-b207-8a02263c7b3e            Christian Kelechi   \n",
       "43482  a5207278-bc25-4bbb-b999-004407519b81             Mankhush Abinash   \n",
       "43483  60cb051b-de1e-4081-970b-6b7cd7e3dc03               Trudy Musgrove   \n",
       "\n",
       "                                                 content  score  \\\n",
       "0                                                   Like      5   \n",
       "1                  Great apps gustong gusto koto na apps      5   \n",
       "2                                                   Eeßu      1   \n",
       "3                                                  shisi      1   \n",
       "4      Not sure whats happened over the last week or ...      2   \n",
       "...                                                  ...    ...   \n",
       "43479                                         nice video      5   \n",
       "43480                                         love it!!!      5   \n",
       "43481                             Good work is confirmed      5   \n",
       "43482                        I NH by t um TV ex RV hu by      1   \n",
       "43483                                              Works      3   \n",
       "\n",
       "       thumbsUpCount reviewCreatedVersion                   at      appVersion  \n",
       "0                  0        463.1.0.53.85  2024-05-11 22:11:06   463.1.0.53.85  \n",
       "1                  0                  NaN  2024-05-11 22:11:02             NaN  \n",
       "2                  0        463.1.0.53.85  2024-05-11 22:10:30   463.1.0.53.85  \n",
       "3                  0       436.0.0.35.101  2024-05-11 22:09:50  436.0.0.35.101  \n",
       "4                  2        463.1.0.53.85  2024-05-11 22:09:07   463.1.0.53.85  \n",
       "...              ...                  ...                  ...             ...  \n",
       "43479              0                  NaN  2024-05-08 00:07:55             NaN  \n",
       "43480              0        462.0.0.47.85  2024-05-08 00:07:38   462.0.0.47.85  \n",
       "43481              0       361.0.0.39.115  2024-05-08 00:07:31  361.0.0.39.115  \n",
       "43482              0        462.0.0.47.85  2024-05-08 00:04:41   462.0.0.47.85  \n",
       "43483              0                  NaN  2024-05-08 00:01:21             NaN  \n",
       "\n",
       "[43484 rows x 8 columns]"
      ]
     },
     "execution_count": 53,
     "metadata": {},
     "output_type": "execute_result"
    }
   ],
   "source": [
    "df"
   ]
  },
  {
   "cell_type": "code",
   "execution_count": 54,
   "id": "9965c406-60a3-422f-97d4-fb4adfd0201b",
   "metadata": {},
   "outputs": [
    {
     "data": {
      "text/plain": [
       "43484"
      ]
     },
     "execution_count": 54,
     "metadata": {},
     "output_type": "execute_result"
    }
   ],
   "source": [
    "df.shape[0]"
   ]
  },
  {
   "cell_type": "code",
   "execution_count": 55,
   "id": "25ce17fa-25fc-452a-a5a8-cb04d49288d4",
   "metadata": {},
   "outputs": [],
   "source": [
    "df = df.dropna(subset=['content', 'score'])"
   ]
  },
  {
   "cell_type": "code",
   "execution_count": 56,
   "id": "c9ccd1c7-3de2-4a64-8966-8e8c6e9f52fd",
   "metadata": {},
   "outputs": [
    {
     "data": {
      "text/plain": [
       "43479"
      ]
     },
     "execution_count": 56,
     "metadata": {},
     "output_type": "execute_result"
    }
   ],
   "source": [
    "df.shape[0]"
   ]
  },
  {
   "cell_type": "code",
   "execution_count": 57,
   "id": "ec4fa444-b05a-439b-bad2-261ea5fb28c7",
   "metadata": {},
   "outputs": [
    {
     "data": {
      "text/html": [
       "<div>\n",
       "<style scoped>\n",
       "    .dataframe tbody tr th:only-of-type {\n",
       "        vertical-align: middle;\n",
       "    }\n",
       "\n",
       "    .dataframe tbody tr th {\n",
       "        vertical-align: top;\n",
       "    }\n",
       "\n",
       "    .dataframe thead tr th {\n",
       "        text-align: left;\n",
       "    }\n",
       "\n",
       "    .dataframe thead tr:last-of-type th {\n",
       "        text-align: right;\n",
       "    }\n",
       "</style>\n",
       "<table border=\"1\" class=\"dataframe\">\n",
       "  <thead>\n",
       "    <tr>\n",
       "      <th></th>\n",
       "      <th colspan=\"8\" halign=\"left\">thumbsUpCount</th>\n",
       "    </tr>\n",
       "    <tr>\n",
       "      <th></th>\n",
       "      <th>count</th>\n",
       "      <th>mean</th>\n",
       "      <th>std</th>\n",
       "      <th>min</th>\n",
       "      <th>25%</th>\n",
       "      <th>50%</th>\n",
       "      <th>75%</th>\n",
       "      <th>max</th>\n",
       "    </tr>\n",
       "    <tr>\n",
       "      <th>score</th>\n",
       "      <th></th>\n",
       "      <th></th>\n",
       "      <th></th>\n",
       "      <th></th>\n",
       "      <th></th>\n",
       "      <th></th>\n",
       "      <th></th>\n",
       "      <th></th>\n",
       "    </tr>\n",
       "  </thead>\n",
       "  <tbody>\n",
       "    <tr>\n",
       "      <th>1</th>\n",
       "      <td>17787.0</td>\n",
       "      <td>197.914432</td>\n",
       "      <td>1599.246155</td>\n",
       "      <td>0.0</td>\n",
       "      <td>0.0</td>\n",
       "      <td>0.0</td>\n",
       "      <td>7.0</td>\n",
       "      <td>110743.0</td>\n",
       "    </tr>\n",
       "    <tr>\n",
       "      <th>2</th>\n",
       "      <td>4038.0</td>\n",
       "      <td>277.774641</td>\n",
       "      <td>1689.182606</td>\n",
       "      <td>0.0</td>\n",
       "      <td>0.0</td>\n",
       "      <td>1.0</td>\n",
       "      <td>13.0</td>\n",
       "      <td>34632.0</td>\n",
       "    </tr>\n",
       "    <tr>\n",
       "      <th>3</th>\n",
       "      <td>3265.0</td>\n",
       "      <td>185.093721</td>\n",
       "      <td>1532.849272</td>\n",
       "      <td>0.0</td>\n",
       "      <td>0.0</td>\n",
       "      <td>0.0</td>\n",
       "      <td>5.0</td>\n",
       "      <td>40281.0</td>\n",
       "    </tr>\n",
       "    <tr>\n",
       "      <th>4</th>\n",
       "      <td>2629.0</td>\n",
       "      <td>100.893496</td>\n",
       "      <td>1177.997102</td>\n",
       "      <td>0.0</td>\n",
       "      <td>0.0</td>\n",
       "      <td>0.0</td>\n",
       "      <td>1.0</td>\n",
       "      <td>40484.0</td>\n",
       "    </tr>\n",
       "    <tr>\n",
       "      <th>5</th>\n",
       "      <td>15760.0</td>\n",
       "      <td>17.897462</td>\n",
       "      <td>519.464631</td>\n",
       "      <td>0.0</td>\n",
       "      <td>0.0</td>\n",
       "      <td>0.0</td>\n",
       "      <td>0.0</td>\n",
       "      <td>31127.0</td>\n",
       "    </tr>\n",
       "  </tbody>\n",
       "</table>\n",
       "</div>"
      ],
      "text/plain": [
       "      thumbsUpCount                                                        \n",
       "              count        mean          std  min  25%  50%   75%       max\n",
       "score                                                                      \n",
       "1           17787.0  197.914432  1599.246155  0.0  0.0  0.0   7.0  110743.0\n",
       "2            4038.0  277.774641  1689.182606  0.0  0.0  1.0  13.0   34632.0\n",
       "3            3265.0  185.093721  1532.849272  0.0  0.0  0.0   5.0   40281.0\n",
       "4            2629.0  100.893496  1177.997102  0.0  0.0  0.0   1.0   40484.0\n",
       "5           15760.0   17.897462   519.464631  0.0  0.0  0.0   0.0   31127.0"
      ]
     },
     "execution_count": 57,
     "metadata": {},
     "output_type": "execute_result"
    }
   ],
   "source": [
    "description = df.groupby('score').describe()\n",
    "description"
   ]
  },
  {
   "cell_type": "code",
   "execution_count": 58,
   "id": "9f27b708-9fe4-45f9-a2b1-dba821466b4e",
   "metadata": {},
   "outputs": [
    {
     "data": {
      "image/png": "[encoded data removed]",
      "text/plain": [
       "<Figure size 640x480 with 1 Axes>"
      ]
     },
     "metadata": {},
     "output_type": "display_data"
    }
   ],
   "source": [
    "plt.bar(np.arange(0, 5), height= [17787.0, 4038.0, 3265.0, 2630.0, 15764.0])\n",
    "plt.title('Facebook Rating Distribution')\n",
    "plt.xticks(np.arange(0, 5), ['1','2','3','4','5']);"
   ]
  },
  {
   "cell_type": "markdown",
   "id": "4cd6451e-2190-4a59-ad71-54d5cd39f366",
   "metadata": {},
   "source": [
    "### Beginning the machine learning"
   ]
  },
  {
   "cell_type": "code",
   "execution_count": 59,
   "id": "1e5251c4-0862-49a5-8231-41e036f72caa",
   "metadata": {},
   "outputs": [],
   "source": [
    "X = df['content']\n",
    "y = df['score']"
   ]
  },
  {
   "cell_type": "code",
   "execution_count": 60,
   "id": "fb0d82a0-d1df-4de0-815e-a160593042d7",
   "metadata": {},
   "outputs": [],
   "source": [
    "from sklearn.model_selection import train_test_split as tts\n",
    "X_train, X_test, y_train, y_test = tts(X, y, test_size=0.25)"
   ]
  },
  {
   "cell_type": "code",
   "execution_count": 61,
   "id": "2cd25196-1942-45a7-9fa0-c4122bbc6599",
   "metadata": {},
   "outputs": [],
   "source": [
    "ctvct = CountVectorizer()"
   ]
  },
  {
   "cell_type": "code",
   "execution_count": 62,
   "id": "945b68b9-5282-4e11-87db-ce4db1f55b00",
   "metadata": {},
   "outputs": [],
   "source": [
    "X_train_count = ctvct.fit_transform(X_train.values)"
   ]
  },
  {
   "cell_type": "code",
   "execution_count": 63,
   "id": "61a5c9db-575e-4f23-8242-e932d8031547",
   "metadata": {},
   "outputs": [
    {
     "data": {
      "text/plain": [
       "<32609x21555 sparse matrix of type '<class 'numpy.int64'>'\n",
       "\twith 723156 stored elements in Compressed Sparse Row format>"
      ]
     },
     "execution_count": 63,
     "metadata": {},
     "output_type": "execute_result"
    }
   ],
   "source": [
    "X_train_count"
   ]
  },
  {
   "cell_type": "code",
   "execution_count": 64,
   "id": "9d41b207-cdeb-43cc-9e49-56f0dba11963",
   "metadata": {},
   "outputs": [
    {
     "data": {
      "text/html": [
       "<style>#sk-container-id-2 {\n",
       "  /* Definition of color scheme common for light and dark mode */\n",
       "  --sklearn-color-text: black;\n",
       "  --sklearn-color-line: gray;\n",
       "  /* Definition of color scheme for unfitted estimators */\n",
       "  --sklearn-color-unfitted-level-0: #fff5e6;\n",
       "  --sklearn-color-unfitted-level-1: #f6e4d2;\n",
       "  --sklearn-color-unfitted-level-2: #ffe0b3;\n",
       "  --sklearn-color-unfitted-level-3: chocolate;\n",
       "  /* Definition of color scheme for fitted estimators */\n",
       "  --sklearn-color-fitted-level-0: #f0f8ff;\n",
       "  --sklearn-color-fitted-level-1: #d4ebff;\n",
       "  --sklearn-color-fitted-level-2: #b3dbfd;\n",
       "  --sklearn-color-fitted-level-3: cornflowerblue;\n",
       "\n",
       "  /* Specific color for light theme */\n",
       "  --sklearn-color-text-on-default-background: var(--sg-text-color, var(--theme-code-foreground, var(--jp-content-font-color1, black)));\n",
       "  --sklearn-color-background: var(--sg-background-color, var(--theme-background, var(--jp-layout-color0, white)));\n",
       "  --sklearn-color-border-box: var(--sg-text-color, var(--theme-code-foreground, var(--jp-content-font-color1, black)));\n",
       "  --sklearn-color-icon: #696969;\n",
       "\n",
       "  @media (prefers-color-scheme: dark) {\n",
       "    /* Redefinition of color scheme for dark theme */\n",
       "    --sklearn-color-text-on-default-background: var(--sg-text-color, var(--theme-code-foreground, var(--jp-content-font-color1, white)));\n",
       "    --sklearn-color-background: var(--sg-background-color, var(--theme-background, var(--jp-layout-color0, #111)));\n",
       "    --sklearn-color-border-box: var(--sg-text-color, var(--theme-code-foreground, var(--jp-content-font-color1, white)));\n",
       "    --sklearn-color-icon: #878787;\n",
       "  }\n",
       "}\n",
       "\n",
       "#sk-container-id-2 {\n",
       "  color: var(--sklearn-color-text);\n",
       "}\n",
       "\n",
       "#sk-container-id-2 pre {\n",
       "  padding: 0;\n",
       "}\n",
       "\n",
       "#sk-container-id-2 input.sk-hidden--visually {\n",
       "  border: 0;\n",
       "  clip: rect(1px 1px 1px 1px);\n",
       "  clip: rect(1px, 1px, 1px, 1px);\n",
       "  height: 1px;\n",
       "  margin: -1px;\n",
       "  overflow: hidden;\n",
       "  padding: 0;\n",
       "  position: absolute;\n",
       "  width: 1px;\n",
       "}\n",
       "\n",
       "#sk-container-id-2 div.sk-dashed-wrapped {\n",
       "  border: 1px dashed var(--sklearn-color-line);\n",
       "  margin: 0 0.4em 0.5em 0.4em;\n",
       "  box-sizing: border-box;\n",
       "  padding-bottom: 0.4em;\n",
       "  background-color: var(--sklearn-color-background);\n",
       "}\n",
       "\n",
       "#sk-container-id-2 div.sk-container {\n",
       "  /* jupyter's `normalize.less` sets `[hidden] { display: none; }`\n",
       "     but bootstrap.min.css set `[hidden] { display: none !important; }`\n",
       "     so we also need the `!important` here to be able to override the\n",
       "     default hidden behavior on the sphinx rendered scikit-learn.org.\n",
       "     See: https://github.com/scikit-learn/scikit-learn/issues/21755 */\n",
       "  display: inline-block !important;\n",
       "  position: relative;\n",
       "}\n",
       "\n",
       "#sk-container-id-2 div.sk-text-repr-fallback {\n",
       "  display: none;\n",
       "}\n",
       "\n",
       "div.sk-parallel-item,\n",
       "div.sk-serial,\n",
       "div.sk-item {\n",
       "  /* draw centered vertical line to link estimators */\n",
       "  background-image: linear-gradient(var(--sklearn-color-text-on-default-background), var(--sklearn-color-text-on-default-background));\n",
       "  background-size: 2px 100%;\n",
       "  background-repeat: no-repeat;\n",
       "  background-position: center center;\n",
       "}\n",
       "\n",
       "/* Parallel-specific style estimator block */\n",
       "\n",
       "#sk-container-id-2 div.sk-parallel-item::after {\n",
       "  content: \"\";\n",
       "  width: 100%;\n",
       "  border-bottom: 2px solid var(--sklearn-color-text-on-default-background);\n",
       "  flex-grow: 1;\n",
       "}\n",
       "\n",
       "#sk-container-id-2 div.sk-parallel {\n",
       "  display: flex;\n",
       "  align-items: stretch;\n",
       "  justify-content: center;\n",
       "  background-color: var(--sklearn-color-background);\n",
       "  position: relative;\n",
       "}\n",
       "\n",
       "#sk-container-id-2 div.sk-parallel-item {\n",
       "  display: flex;\n",
       "  flex-direction: column;\n",
       "}\n",
       "\n",
       "#sk-container-id-2 div.sk-parallel-item:first-child::after {\n",
       "  align-self: flex-end;\n",
       "  width: 50%;\n",
       "}\n",
       "\n",
       "#sk-container-id-2 div.sk-parallel-item:last-child::after {\n",
       "  align-self: flex-start;\n",
       "  width: 50%;\n",
       "}\n",
       "\n",
       "#sk-container-id-2 div.sk-parallel-item:only-child::after {\n",
       "  width: 0;\n",
       "}\n",
       "\n",
       "/* Serial-specific style estimator block */\n",
       "\n",
       "#sk-container-id-2 div.sk-serial {\n",
       "  display: flex;\n",
       "  flex-direction: column;\n",
       "  align-items: center;\n",
       "  background-color: var(--sklearn-color-background);\n",
       "  padding-right: 1em;\n",
       "  padding-left: 1em;\n",
       "}\n",
       "\n",
       "\n",
       "/* Toggleable style: style used for estimator/Pipeline/ColumnTransformer box that is\n",
       "clickable and can be expanded/collapsed.\n",
       "- Pipeline and ColumnTransformer use this feature and define the default style\n",
       "- Estimators will overwrite some part of the style using the `sk-estimator` class\n",
       "*/\n",
       "\n",
       "/* Pipeline and ColumnTransformer style (default) */\n",
       "\n",
       "#sk-container-id-2 div.sk-toggleable {\n",
       "  /* Default theme specific background. It is overwritten whether we have a\n",
       "  specific estimator or a Pipeline/ColumnTransformer */\n",
       "  background-color: var(--sklearn-color-background);\n",
       "}\n",
       "\n",
       "/* Toggleable label */\n",
       "#sk-container-id-2 label.sk-toggleable__label {\n",
       "  cursor: pointer;\n",
       "  display: block;\n",
       "  width: 100%;\n",
       "  margin-bottom: 0;\n",
       "  padding: 0.5em;\n",
       "  box-sizing: border-box;\n",
       "  text-align: center;\n",
       "}\n",
       "\n",
       "#sk-container-id-2 label.sk-toggleable__label-arrow:before {\n",
       "  /* Arrow on the left of the label */\n",
       "  content: \"▸\";\n",
       "  float: left;\n",
       "  margin-right: 0.25em;\n",
       "  color: var(--sklearn-color-icon);\n",
       "}\n",
       "\n",
       "#sk-container-id-2 label.sk-toggleable__label-arrow:hover:before {\n",
       "  color: var(--sklearn-color-text);\n",
       "}\n",
       "\n",
       "/* Toggleable content - dropdown */\n",
       "\n",
       "#sk-container-id-2 div.sk-toggleable__content {\n",
       "  max-height: 0;\n",
       "  max-width: 0;\n",
       "  overflow: hidden;\n",
       "  text-align: left;\n",
       "  /* unfitted */\n",
       "  background-color: var(--sklearn-color-unfitted-level-0);\n",
       "}\n",
       "\n",
       "#sk-container-id-2 div.sk-toggleable__content.fitted {\n",
       "  /* fitted */\n",
       "  background-color: var(--sklearn-color-fitted-level-0);\n",
       "}\n",
       "\n",
       "#sk-container-id-2 div.sk-toggleable__content pre {\n",
       "  margin: 0.2em;\n",
       "  border-radius: 0.25em;\n",
       "  color: var(--sklearn-color-text);\n",
       "  /* unfitted */\n",
       "  background-color: var(--sklearn-color-unfitted-level-0);\n",
       "}\n",
       "\n",
       "#sk-container-id-2 div.sk-toggleable__content.fitted pre {\n",
       "  /* unfitted */\n",
       "  background-color: var(--sklearn-color-fitted-level-0);\n",
       "}\n",
       "\n",
       "#sk-container-id-2 input.sk-toggleable__control:checked~div.sk-toggleable__content {\n",
       "  /* Expand drop-down */\n",
       "  max-height: 200px;\n",
       "  max-width: 100%;\n",
       "  overflow: auto;\n",
       "}\n",
       "\n",
       "#sk-container-id-2 input.sk-toggleable__control:checked~label.sk-toggleable__label-arrow:before {\n",
       "  content: \"▾\";\n",
       "}\n",
       "\n",
       "/* Pipeline/ColumnTransformer-specific style */\n",
       "\n",
       "#sk-container-id-2 div.sk-label input.sk-toggleable__control:checked~label.sk-toggleable__label {\n",
       "  color: var(--sklearn-color-text);\n",
       "  background-color: var(--sklearn-color-unfitted-level-2);\n",
       "}\n",
       "\n",
       "#sk-container-id-2 div.sk-label.fitted input.sk-toggleable__control:checked~label.sk-toggleable__label {\n",
       "  background-color: var(--sklearn-color-fitted-level-2);\n",
       "}\n",
       "\n",
       "/* Estimator-specific style */\n",
       "\n",
       "/* Colorize estimator box */\n",
       "#sk-container-id-2 div.sk-estimator input.sk-toggleable__control:checked~label.sk-toggleable__label {\n",
       "  /* unfitted */\n",
       "  background-color: var(--sklearn-color-unfitted-level-2);\n",
       "}\n",
       "\n",
       "#sk-container-id-2 div.sk-estimator.fitted input.sk-toggleable__control:checked~label.sk-toggleable__label {\n",
       "  /* fitted */\n",
       "  background-color: var(--sklearn-color-fitted-level-2);\n",
       "}\n",
       "\n",
       "#sk-container-id-2 div.sk-label label.sk-toggleable__label,\n",
       "#sk-container-id-2 div.sk-label label {\n",
       "  /* The background is the default theme color */\n",
       "  color: var(--sklearn-color-text-on-default-background);\n",
       "}\n",
       "\n",
       "/* On hover, darken the color of the background */\n",
       "#sk-container-id-2 div.sk-label:hover label.sk-toggleable__label {\n",
       "  color: var(--sklearn-color-text);\n",
       "  background-color: var(--sklearn-color-unfitted-level-2);\n",
       "}\n",
       "\n",
       "/* Label box, darken color on hover, fitted */\n",
       "#sk-container-id-2 div.sk-label.fitted:hover label.sk-toggleable__label.fitted {\n",
       "  color: var(--sklearn-color-text);\n",
       "  background-color: var(--sklearn-color-fitted-level-2);\n",
       "}\n",
       "\n",
       "/* Estimator label */\n",
       "\n",
       "#sk-container-id-2 div.sk-label label {\n",
       "  font-family: monospace;\n",
       "  font-weight: bold;\n",
       "  display: inline-block;\n",
       "  line-height: 1.2em;\n",
       "}\n",
       "\n",
       "#sk-container-id-2 div.sk-label-container {\n",
       "  text-align: center;\n",
       "}\n",
       "\n",
       "/* Estimator-specific */\n",
       "#sk-container-id-2 div.sk-estimator {\n",
       "  font-family: monospace;\n",
       "  border: 1px dotted var(--sklearn-color-border-box);\n",
       "  border-radius: 0.25em;\n",
       "  box-sizing: border-box;\n",
       "  margin-bottom: 0.5em;\n",
       "  /* unfitted */\n",
       "  background-color: var(--sklearn-color-unfitted-level-0);\n",
       "}\n",
       "\n",
       "#sk-container-id-2 div.sk-estimator.fitted {\n",
       "  /* fitted */\n",
       "  background-color: var(--sklearn-color-fitted-level-0);\n",
       "}\n",
       "\n",
       "/* on hover */\n",
       "#sk-container-id-2 div.sk-estimator:hover {\n",
       "  /* unfitted */\n",
       "  background-color: var(--sklearn-color-unfitted-level-2);\n",
       "}\n",
       "\n",
       "#sk-container-id-2 div.sk-estimator.fitted:hover {\n",
       "  /* fitted */\n",
       "  background-color: var(--sklearn-color-fitted-level-2);\n",
       "}\n",
       "\n",
       "/* Specification for estimator info (e.g. \"i\" and \"?\") */\n",
       "\n",
       "/* Common style for \"i\" and \"?\" */\n",
       "\n",
       ".sk-estimator-doc-link,\n",
       "a:link.sk-estimator-doc-link,\n",
       "a:visited.sk-estimator-doc-link {\n",
       "  float: right;\n",
       "  font-size: smaller;\n",
       "  line-height: 1em;\n",
       "  font-family: monospace;\n",
       "  background-color: var(--sklearn-color-background);\n",
       "  border-radius: 1em;\n",
       "  height: 1em;\n",
       "  width: 1em;\n",
       "  text-decoration: none !important;\n",
       "  margin-left: 1ex;\n",
       "  /* unfitted */\n",
       "  border: var(--sklearn-color-unfitted-level-1) 1pt solid;\n",
       "  color: var(--sklearn-color-unfitted-level-1);\n",
       "}\n",
       "\n",
       ".sk-estimator-doc-link.fitted,\n",
       "a:link.sk-estimator-doc-link.fitted,\n",
       "a:visited.sk-estimator-doc-link.fitted {\n",
       "  /* fitted */\n",
       "  border: var(--sklearn-color-fitted-level-1) 1pt solid;\n",
       "  color: var(--sklearn-color-fitted-level-1);\n",
       "}\n",
       "\n",
       "/* On hover */\n",
       "div.sk-estimator:hover .sk-estimator-doc-link:hover,\n",
       ".sk-estimator-doc-link:hover,\n",
       "div.sk-label-container:hover .sk-estimator-doc-link:hover,\n",
       ".sk-estimator-doc-link:hover {\n",
       "  /* unfitted */\n",
       "  background-color: var(--sklearn-color-unfitted-level-3);\n",
       "  color: var(--sklearn-color-background);\n",
       "  text-decoration: none;\n",
       "}\n",
       "\n",
       "div.sk-estimator.fitted:hover .sk-estimator-doc-link.fitted:hover,\n",
       ".sk-estimator-doc-link.fitted:hover,\n",
       "div.sk-label-container:hover .sk-estimator-doc-link.fitted:hover,\n",
       ".sk-estimator-doc-link.fitted:hover {\n",
       "  /* fitted */\n",
       "  background-color: var(--sklearn-color-fitted-level-3);\n",
       "  color: var(--sklearn-color-background);\n",
       "  text-decoration: none;\n",
       "}\n",
       "\n",
       "/* Span, style for the box shown on hovering the info icon */\n",
       ".sk-estimator-doc-link span {\n",
       "  display: none;\n",
       "  z-index: 9999;\n",
       "  position: relative;\n",
       "  font-weight: normal;\n",
       "  right: .2ex;\n",
       "  padding: .5ex;\n",
       "  margin: .5ex;\n",
       "  width: min-content;\n",
       "  min-width: 20ex;\n",
       "  max-width: 50ex;\n",
       "  color: var(--sklearn-color-text);\n",
       "  box-shadow: 2pt 2pt 4pt #999;\n",
       "  /* unfitted */\n",
       "  background: var(--sklearn-color-unfitted-level-0);\n",
       "  border: .5pt solid var(--sklearn-color-unfitted-level-3);\n",
       "}\n",
       "\n",
       ".sk-estimator-doc-link.fitted span {\n",
       "  /* fitted */\n",
       "  background: var(--sklearn-color-fitted-level-0);\n",
       "  border: var(--sklearn-color-fitted-level-3);\n",
       "}\n",
       "\n",
       ".sk-estimator-doc-link:hover span {\n",
       "  display: block;\n",
       "}\n",
       "\n",
       "/* \"?\"-specific style due to the `<a>` HTML tag */\n",
       "\n",
       "#sk-container-id-2 a.estimator_doc_link {\n",
       "  float: right;\n",
       "  font-size: 1rem;\n",
       "  line-height: 1em;\n",
       "  font-family: monospace;\n",
       "  background-color: var(--sklearn-color-background);\n",
       "  border-radius: 1rem;\n",
       "  height: 1rem;\n",
       "  width: 1rem;\n",
       "  text-decoration: none;\n",
       "  /* unfitted */\n",
       "  color: var(--sklearn-color-unfitted-level-1);\n",
       "  border: var(--sklearn-color-unfitted-level-1) 1pt solid;\n",
       "}\n",
       "\n",
       "#sk-container-id-2 a.estimator_doc_link.fitted {\n",
       "  /* fitted */\n",
       "  border: var(--sklearn-color-fitted-level-1) 1pt solid;\n",
       "  color: var(--sklearn-color-fitted-level-1);\n",
       "}\n",
       "\n",
       "/* On hover */\n",
       "#sk-container-id-2 a.estimator_doc_link:hover {\n",
       "  /* unfitted */\n",
       "  background-color: var(--sklearn-color-unfitted-level-3);\n",
       "  color: var(--sklearn-color-background);\n",
       "  text-decoration: none;\n",
       "}\n",
       "\n",
       "#sk-container-id-2 a.estimator_doc_link.fitted:hover {\n",
       "  /* fitted */\n",
       "  background-color: var(--sklearn-color-fitted-level-3);\n",
       "}\n",
       "</style><div id=\"sk-container-id-2\" class=\"sk-top-container\"><div class=\"sk-text-repr-fallback\"><pre>MultinomialNB()</pre><b>In a Jupyter environment, please rerun this cell to show the HTML representation or trust the notebook. <br />On GitHub, the HTML representation is unable to render, please try loading this page with nbviewer.org.</b></div><div class=\"sk-container\" hidden><div class=\"sk-item\"><div class=\"sk-estimator fitted sk-toggleable\"><input class=\"sk-toggleable__control sk-hidden--visually\" id=\"sk-estimator-id-2\" type=\"checkbox\" checked><label for=\"sk-estimator-id-2\" class=\"sk-toggleable__label fitted sk-toggleable__label-arrow fitted\">&nbsp;&nbsp;MultinomialNB<a class=\"sk-estimator-doc-link fitted\" rel=\"noreferrer\" target=\"_blank\" href=\"https://scikit-learn.org/1.4/modules/generated/sklearn.naive_bayes.MultinomialNB.html\">?<span>Documentation for MultinomialNB</span></a><span class=\"sk-estimator-doc-link fitted\">i<span>Fitted</span></span></label><div class=\"sk-toggleable__content fitted\"><pre>MultinomialNB()</pre></div> </div></div></div></div>"
      ],
      "text/plain": [
       "MultinomialNB()"
      ]
     },
     "execution_count": 64,
     "metadata": {},
     "output_type": "execute_result"
    }
   ],
   "source": [
    "multiNB = MultinomialNB()\n",
    "multiNB.fit(X_train_count, y_train)"
   ]
  },
  {
   "cell_type": "code",
   "execution_count": 65,
   "id": "c47713ea-33b9-473f-993c-8e9f1ef77e30",
   "metadata": {},
   "outputs": [],
   "source": [
    "X_test_count = ctvct.transform(X_test.values)"
   ]
  },
  {
   "cell_type": "code",
   "execution_count": 66,
   "id": "b32a6bab-95ea-4955-8870-3f3a303646f7",
   "metadata": {},
   "outputs": [
    {
     "data": {
      "text/plain": [
       "0.6850045998160074"
      ]
     },
     "execution_count": 66,
     "metadata": {},
     "output_type": "execute_result"
    }
   ],
   "source": [
    "multiNB.score(X_test_count, y_test)"
   ]
  },
  {
   "cell_type": "markdown",
   "id": "1f32753d-4dbf-4ae0-9b9b-20e428139c0b",
   "metadata": {},
   "source": [
    "### Classification report"
   ]
  },
  {
   "cell_type": "code",
   "execution_count": 67,
   "id": "0f36d9c1-3952-4c16-8c6e-52ddc3559b9c",
   "metadata": {},
   "outputs": [
    {
     "name": "stdout",
     "output_type": "stream",
     "text": [
      "              precision    recall  f1-score   support\n",
      "\n",
      "           1       0.64      0.92      0.75      4466\n",
      "           2       0.31      0.05      0.09       978\n",
      "           3       0.38      0.04      0.07       813\n",
      "           4       0.67      0.05      0.10       692\n",
      "           5       0.78      0.82      0.80      3921\n",
      "\n",
      "    accuracy                           0.69     10870\n",
      "   macro avg       0.56      0.38      0.36     10870\n",
      "weighted avg       0.64      0.69      0.62     10870\n",
      "\n"
     ]
    }
   ],
   "source": [
    "y_pred = multiNB.predict(X_test_count)\n",
    "print(classification_report(y_test, y_pred))"
   ]
  },
  {
   "cell_type": "markdown",
   "id": "698999cb-9f99-4d22-84fc-1c016aed4edc",
   "metadata": {},
   "source": [
    "### Does Bernoulli Naive Bayes do any better?"
   ]
  },
  {
   "cell_type": "code",
   "execution_count": 68,
   "id": "44355028-fb94-4834-8e0a-07476236923b",
   "metadata": {},
   "outputs": [
    {
     "data": {
      "text/plain": [
       "0.6456301747930083"
      ]
     },
     "execution_count": 68,
     "metadata": {},
     "output_type": "execute_result"
    }
   ],
   "source": [
    "bernNB = BernoulliNB()\n",
    "bernNB.fit(X_train_count, y_train)\n",
    "bernNB.score(X_test_count, y_test)"
   ]
  },
  {
   "cell_type": "markdown",
   "id": "86e14496-75ed-4d42-b9e3-bdf330b4af21",
   "metadata": {},
   "source": [
    "### No, it does not"
   ]
  },
  {
   "cell_type": "markdown",
   "id": "3b794cbe-39ea-4a8c-998b-2811419994c5",
   "metadata": {},
   "source": [
    "### Let's optimize some hyperparameters"
   ]
  },
  {
   "cell_type": "code",
   "execution_count": 69,
   "id": "4d69fb15-4ce5-49a5-b2c3-4c5b31e42c60",
   "metadata": {},
   "outputs": [],
   "source": [
    "def do_Kfold(model,X,y,k,scaler = None, random_state = 146):\n",
    "    from sklearn.model_selection import KFold\n",
    "    \n",
    "    kf = KFold(n_splits=k, random_state = random_state, shuffle=True)\n",
    "\n",
    "    train_scores = []\n",
    "    test_scores = []\n",
    "\n",
    "    for idxTrain, idxTest in kf.split(X):\n",
    "        Xtrain = X[idxTrain, :]\n",
    "        Xtest = X[idxTest, :]\n",
    "        ytrain = y[idxTrain]\n",
    "        ytest = y[idxTest]\n",
    "        if scaler != None:\n",
    "            Xtrain = scaler.fit_transform(Xtrain)\n",
    "            Xtest = scaler.transform(Xtest)\n",
    "\n",
    "        model.fit(Xtrain,ytrain)\n",
    "\n",
    "        train_scores.append(model.score(Xtrain,ytrain))\n",
    "        test_scores.append(model.score(Xtest,ytest))\n",
    "        \n",
    "    return train_scores, test_scores"
   ]
  },
  {
   "cell_type": "code",
   "execution_count": 70,
   "id": "ab45b253-bce1-4871-a8bf-cfccda8f7da7",
   "metadata": {},
   "outputs": [],
   "source": [
    "alpha_range = np.linspace(0.01, 20, 10)\n",
    "train=[]\n",
    "test=[]\n",
    "for alpha in alpha_range:\n",
    "    multiNB.fit(X_train_count, y_train)\n",
    "    train.append(multiNB.score(X_train_count, y_train))\n",
    "    test.append(multiNB.score(X_test_count, y_test))\n",
    "    "
   ]
  },
  {
   "cell_type": "code",
   "execution_count": 71,
   "id": "63fa4337-33ba-4b25-b59d-c276342583f6",
   "metadata": {},
   "outputs": [
    {
     "data": {
      "text/plain": [
       "[0.7378024471771597,\n",
       " 0.7378024471771597,\n",
       " 0.7378024471771597,\n",
       " 0.7378024471771597,\n",
       " 0.7378024471771597,\n",
       " 0.7378024471771597,\n",
       " 0.7378024471771597,\n",
       " 0.7378024471771597,\n",
       " 0.7378024471771597,\n",
       " 0.7378024471771597]"
      ]
     },
     "execution_count": 71,
     "metadata": {},
     "output_type": "execute_result"
    }
   ],
   "source": [
    "train"
   ]
  },
  {
   "cell_type": "code",
   "execution_count": 72,
   "id": "076815f1-5a11-471d-bbd0-e3b05d5f8ff8",
   "metadata": {
    "scrolled": true
   },
   "outputs": [
    {
     "data": {
      "text/plain": [
       "[0.6850045998160074,\n",
       " 0.6850045998160074,\n",
       " 0.6850045998160074,\n",
       " 0.6850045998160074,\n",
       " 0.6850045998160074,\n",
       " 0.6850045998160074,\n",
       " 0.6850045998160074,\n",
       " 0.6850045998160074,\n",
       " 0.6850045998160074,\n",
       " 0.6850045998160074]"
      ]
     },
     "execution_count": 72,
     "metadata": {},
     "output_type": "execute_result"
    }
   ],
   "source": [
    "test"
   ]
  },
  {
   "cell_type": "markdown",
   "id": "488b74be-70a8-4634-bfb9-13a213dc695f",
   "metadata": {},
   "source": [
    "### The alpha is already optimal"
   ]
  },
  {
   "cell_type": "code",
   "execution_count": 73,
   "id": "de284f8c-0a28-4b36-866d-55f950411e66",
   "metadata": {},
   "outputs": [
    {
     "data": {
      "image/png": "[encoded data removed]",
      "text/plain": [
       "<Figure size 600x600 with 1 Axes>"
      ]
     },
     "metadata": {},
     "output_type": "display_data"
    }
   ],
   "source": [
    "plt.figure(figsize = (6,6))\n",
    "sns.stripplot(data = pd.DataFrame(zip(train,test), columns = ['Training', 'Testing']), size=10, palette = 'winter',\n",
    "             alpha = 0.5, jitter = True)\n",
    "plt.show()"
   ]
  },
  {
   "cell_type": "markdown",
   "id": "bcfdab12-1098-4d4d-a92c-fe7707a7ac74",
   "metadata": {},
   "source": [
    "### The model is a bit overfit"
   ]
  },
  {
   "cell_type": "markdown",
   "id": "2ce81dc8-dac8-43df-bce7-c98e623945a6",
   "metadata": {},
   "source": [
    "### Let's try some real inputs"
   ]
  },
  {
   "cell_type": "code",
   "execution_count": 74,
   "id": "e6ef25c0-5965-4d47-a5ed-174d9373e4df",
   "metadata": {},
   "outputs": [
    {
     "data": {
      "text/plain": [
       "array([5])"
      ]
     },
     "execution_count": 74,
     "metadata": {},
     "output_type": "execute_result"
    }
   ],
   "source": [
    "message_1 = ctvct.transform(['This is a great app!'])\n",
    "multiNB.predict(message_1)"
   ]
  },
  {
   "cell_type": "code",
   "execution_count": 75,
   "id": "f324b846-f532-4d9a-bd7c-76f258fcfc10",
   "metadata": {},
   "outputs": [
    {
     "data": {
      "text/plain": [
       "array([1])"
      ]
     },
     "execution_count": 75,
     "metadata": {},
     "output_type": "execute_result"
    }
   ],
   "source": [
    "message_2 = ctvct.transform(['This is an awful app!'])\n",
    "multiNB.predict(message_2)"
   ]
  },
  {
   "cell_type": "code",
   "execution_count": 76,
   "id": "b3019411-d34a-4d03-8d03-ffe48e091b8a",
   "metadata": {},
   "outputs": [
    {
     "data": {
      "text/plain": [
       "array([1])"
      ]
     },
     "execution_count": 76,
     "metadata": {},
     "output_type": "execute_result"
    }
   ],
   "source": [
    "message_3 = ctvct.transform(['This is app is not bad, but not great.'])\n",
    "multiNB.predict(message_3)"
   ]
  },
  {
   "cell_type": "code",
   "execution_count": 77,
   "id": "3d6f7690-7ec4-47f3-bbfd-353b01493660",
   "metadata": {},
   "outputs": [
    {
     "data": {
      "text/plain": [
       "array([1])"
      ]
     },
     "execution_count": 77,
     "metadata": {},
     "output_type": "execute_result"
    }
   ],
   "source": [
    "message_4 = ctvct.transform(['It is pretty decent, but has some bugs.'])\n",
    "multiNB.predict(message_4)"
   ]
  },
  {
   "cell_type": "code",
   "execution_count": 78,
   "id": "4c730f15-b29d-4dbb-8b5c-26615c9db48b",
   "metadata": {},
   "outputs": [
    {
     "data": {
      "text/plain": [
       "array([1])"
      ]
     },
     "execution_count": 78,
     "metadata": {},
     "output_type": "execute_result"
    }
   ],
   "source": [
    "message_5 = ctvct.transform(['bad'])\n",
    "multiNB.predict(message_5)"
   ]
  },
  {
   "cell_type": "code",
   "execution_count": 79,
   "id": "8a16ff1b-d17e-433b-ac26-7f3f7bd02d47",
   "metadata": {},
   "outputs": [
    {
     "data": {
      "text/plain": [
       "array([5])"
      ]
     },
     "execution_count": 79,
     "metadata": {},
     "output_type": "execute_result"
    }
   ],
   "source": [
    "message_6 = ctvct.transform(['bad, good'])\n",
    "multiNB.predict(message_6)"
   ]
  },
  {
   "cell_type": "code",
   "execution_count": 80,
   "id": "2eca751a-39f5-460a-a629-01b3c7923964",
   "metadata": {},
   "outputs": [
    {
     "data": {
      "text/plain": [
       "array([5])"
      ]
     },
     "execution_count": 80,
     "metadata": {},
     "output_type": "execute_result"
    }
   ],
   "source": [
    "message_7 = ctvct.transform(['bad, good, bad, bad.'])\n",
    "multiNB.predict(message_7)"
   ]
  },
  {
   "cell_type": "code",
   "execution_count": 81,
   "id": "5daf8c80-6f65-4651-9740-f8a2a6d8de97",
   "metadata": {},
   "outputs": [
    {
     "data": {
      "text/plain": [
       "array([5])"
      ]
     },
     "execution_count": 81,
     "metadata": {},
     "output_type": "execute_result"
    }
   ],
   "source": [
    "message_8 = ctvct.transform(['bad, good, bad, bad, bad.'])\n",
    "multiNB.predict(message_8)"
   ]
  },
  {
   "cell_type": "code",
   "execution_count": 83,
   "id": "c95bab4c-3e62-405b-a25f-ee977ec0ded7",
   "metadata": {},
   "outputs": [
    {
     "data": {
      "text/plain": [
       "array([1])"
      ]
     },
     "execution_count": 83,
     "metadata": {},
     "output_type": "execute_result"
    }
   ],
   "source": [
    "message_9 = ctvct.transform(['bad, good, major bugs'])\n",
    "multiNB.predict(message_9)"
   ]
  },
  {
   "cell_type": "markdown",
   "id": "5647823b-4407-49fa-9e6d-1b19fda2bd73",
   "metadata": {},
   "source": [
    "#### It is interesting to see the weight that the machine assigns to the words, and how that affects the classification."
   ]
  }
 ],
 "metadata": {
  "kernelspec": {
   "display_name": "Python 3 (ipykernel)",
   "language": "python",
   "name": "python3"
  },
  "language_info": {
   "codemirror_mode": {
    "name": "ipython",
    "version": 3
   },
   "file_extension": ".py",
   "mimetype": "text/x-python",
   "name": "python",
   "nbconvert_exporter": "python",
   "pygments_lexer": "ipython3",
   "version": "3.11.6"
  }
 },
 "nbformat": 4,
 "nbformat_minor": 5
}
